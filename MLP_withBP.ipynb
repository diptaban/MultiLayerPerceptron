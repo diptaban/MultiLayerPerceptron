{
  "nbformat": 4,
  "nbformat_minor": 0,
  "metadata": {
    "colab": {
      "provenance": [],
      "collapsed_sections": [],
      "authorship_tag": "ABX9TyMIQbUlXrtCVMzgv7mu0uOn",
      "include_colab_link": true
    },
    "kernelspec": {
      "name": "python3",
      "display_name": "Python 3"
    },
    "language_info": {
      "name": "python"
    }
  },
  "cells": [
    {
      "cell_type": "markdown",
      "metadata": {
        "id": "view-in-github",
        "colab_type": "text"
      },
      "source": [
        "<a href=\"https://colab.research.google.com/github/diptaban/MultiLayerPerceptron/blob/main/MLP_withBP.ipynb\" target=\"_parent\"><img src=\"https://colab.research.google.com/assets/colab-badge.svg\" alt=\"Open In Colab\"/></a>"
      ]
    },
    {
      "cell_type": "markdown",
      "source": [
        "# Multi Layer Perceptron"
      ],
      "metadata": {
        "id": "BxcDgBjg7-WZ"
      }
    },
    {
      "cell_type": "markdown",
      "source": [
        "**XOR or XNOR Classification problem**"
      ],
      "metadata": {
        "id": "bL6aYEAiQK7T"
      }
    },
    {
      "cell_type": "markdown",
      "source": [
        " \n",
        "\n",
        "1.    The $X$, containing the training examples, should be written in $n\\times m$ format, where $n$ = no. of features and $m$ = no. of samples/examples.\n",
        "2.   Define sigmoid function and its derivative:\n",
        "\n",
        "##$g(z) = \\frac{1}{1+exp(-z)} $\n",
        "\n",
        "## $g^{'}(z) = g(z)(1-g(z))$\n",
        "\n",
        "3. Compute Cost : \n",
        "\n",
        "## $J = -\\frac{1}{m} \\sum_{i=1}^m \\{ y^{i} \\cdot log(\\hat{y}^{i}) + (1-y^{i})\n",
        "\\cdot  log(1-\\hat{y}^{i}) \\}$\n",
        " \n",
        "\n",
        "4. Initialization of Weights\n",
        "\n",
        "5. Forward Propagation\n",
        "# $Forward \\quad Propagation$\n",
        "## $ Z^{[1]} = W^{[1]}X + b^{[1]}$\n",
        "## $ A^{[1]} = g^{[1]}(Z^{[1]})$\n",
        "## $ Z^{[2]} = W^{[2]}A^{[1]} + b^{[2]}$\n",
        "## $ A^{[2]} = g^{[2]}(Z^{[2]})$\n",
        "\n",
        "*We can use different activation functions in different layers*. Say $g^{[1]}$ is $tanh$ and $g^{[2]}$ is $sigmoid$\n",
        "\n",
        "6. # Back Propagation\n",
        "*Remember : Shape of X is $n_x\\times m$, Shape of Y is $1\\times m$*\n",
        "\n",
        "$X_{n_x\\times m}, Y_{1\\times m}$\n",
        "\n",
        "\n",
        "\\begin{eqnarray}\n",
        " dZ^{[2]} &=& A^{[2]} - Y \\\\\n",
        " dW^{[2]} &=& \\frac{1}{m} dZ^{[2]} A^{[1]^T} \\\\\n",
        " db^{[2]} &=& \\frac{1}{m} np.sum( dZ^{[2]},axis=1,keepdims=True)\\\\\n",
        " dZ^{[1]} &=& W^{[2]^T} dZ^{[2]} \\quad \\cdot \\quad g^{'[1]}(Z^{[1]}\\\\\n",
        " dW^{[1]} &=& dZ^{[1]} X^T \\\\\n",
        " db^{[1]} &=& \\frac{1}{m} np.sum( dZ^{[1]},axis=1,keepdims=True)\\\\\n",
        "\\end{eqnarray}\n"
      ],
      "metadata": {
        "id": "5ZyFLVls77Gl"
      }
    },
    {
      "cell_type": "code",
      "execution_count": null,
      "metadata": {
        "id": "huZY87RM75rm",
        "colab": {
          "base_uri": "https://localhost:8080/",
          "height": 352
        },
        "outputId": "e6160594-2b43-499d-ac69-8278aef7bd6b"
      },
      "outputs": [
        {
          "output_type": "stream",
          "name": "stdout",
          "text": [
            "(2, 4)\n",
            "4\n",
            "[[0.9953047  0.00591332 0.00246908 0.99611212]]\n",
            "(20000,)\n"
          ]
        },
        {
          "output_type": "execute_result",
          "data": {
            "text/plain": [
              "[<matplotlib.lines.Line2D at 0x7eff652acad0>]"
            ]
          },
          "metadata": {},
          "execution_count": 21
        },
        {
          "output_type": "display_data",
          "data": {
            "text/plain": [
              "<Figure size 432x288 with 1 Axes>"
            ],
            "image/png": "[encoded data removed]"
          },
          "metadata": {
            "needs_background": "light"
          }
        }
      ],
      "source": [
        "import numpy as np\n",
        "\n",
        "def sigmoid(x): # Returns values that sums to one.\n",
        "    return 1 / (1 + np.exp(-x)) \n",
        "\n",
        "def sigmoid_derivative(x):\n",
        "    return np.exp(-x)/(np.exp(-x)+1)**2\n",
        "\n",
        "def cost_computation(y,yhat):\n",
        "  logprobs = -(1/m)* np.sum(( np.multiply(y,np.log(yhat)) + np.multiply(1-y,np.log(1-yhat)) ))\n",
        "  #yhat = yhat.T # if we use np.dot we need transpose\n",
        "  #logprobs = -(1/m) * (  np.dot(y,np.log(yhat)) + np.dot((1-y),np.log(1-yhat))   )\n",
        "  return logprobs\n",
        "\n",
        "lr = 0.1 # proper learning rate and iteration is very important to get optimal weight\n",
        "\n",
        "xor_input = np.array([[0,0], [0,1], [1,0], [1,1]])\n",
        "xor_output = np.array([[1,0,0,1]])\n",
        "# no. of examples = m = 4, no. of features =n=2\n",
        "# So dimension of X matrix should be (n x m) i.e. 2 x 4\n",
        "# Lets drop the last row of data and use that as unseen test.\n",
        "X = xor_input.T\n",
        "Y = xor_output\n",
        "print(X.shape)\n",
        "output_dim = len(Y.T)\n",
        "print(output_dim)\n",
        "# Define the shape of the weight vector.\n",
        "n0, m = X.shape\n",
        "# We use one hidden layer\n",
        "# So we have two weight matrices W1 and W2, two bias vectors b1 and b2\n",
        "# dimension of W1 should be n1 x n0, where n1 = no. of nodes in hidden layer, n0 = no. of nodes in input layer, i.e. features of X\n",
        "# dimension of b1 = n1 x 1\n",
        "# we choose n1 = 5\n",
        "n1 = 5\n",
        "W1 = np.random.random((n1,n0))\n",
        "b1 = np.zeros((n1,1))\n",
        "# dimension of W2 = n2 x n1 , where, n2 = total no. of nodes in second hidden layer, here, second hidden layer = output layer\n",
        "n2 = 1\n",
        "W2 = np.random.random((n2,n1))\n",
        "b2 = np.zeros((n2,1))\n",
        "\n",
        "NumOfEpochs = 20000\n",
        "Cost = []\n",
        "\n",
        "for epoch in range(NumOfEpochs):\n",
        "  # Forward propagation\n",
        "  Z1 = np.dot(W1,X) + b1\n",
        "  A1 = sigmoid(Z1)\n",
        "  #A1 = np.tanh(Z1)\n",
        "  Z2 = np.dot(W2,A1) +b2\n",
        "  A2 = sigmoid(Z2)\n",
        "\n",
        "  Cost.append(np.squeeze(cost_computation(Y,A2)))\n",
        "  #print(A2)\n",
        "\n",
        "  # Back propagation\n",
        "  dZ2 = A2 - Y\n",
        "  dW2 = (1/m) * np.dot(dZ2,A1.T)\n",
        "  db2 = np.sum(dZ2,axis=1,keepdims=True)\n",
        "  dZ1 = np.multiply(np.dot(W2.T, dZ2), (A1*(1-A1))) # for sigmoid function\n",
        "  #dZ1 = np.multiply(np.dot(W2.T, dZ2), 1 - np.power(A1, 2)) # for tanh activation\n",
        "  \n",
        "  dW1 = (1/m) *np.dot(dZ1,X.T)\n",
        "  db1 = (1/m) * np.sum(dZ1,axis=1,keepdims = True)\n",
        "\n",
        "  W1 = W1 - lr * dW1\n",
        "  W2 = W2 - lr * dW2\n",
        "  b1 = b1 - lr * db1\n",
        "  b2 = b2 - lr * db2\n",
        "\n",
        "\n",
        "print(A2)\n",
        "\n",
        "def predict(W1,W2,b1,b2, X):\n",
        "    \"\"\"\n",
        "    Using the learned parameters, predicts a class for each example in X\n",
        "    \n",
        "    Arguments:\n",
        "    parameters -- python dictionary containing your parameters \n",
        "    X -- input data of size (n_x, m)\n",
        "    \n",
        "    Returns\n",
        "    predictions -- vector of predictions of our model (red: 0 / blue: 1)\n",
        "    \"\"\"\n",
        "    \n",
        "    # Computes probabilities using forward propagation, and classifies to 0/1 using 0.5 as the threshold.\n",
        "    \n",
        "    Z1 = np.dot(W1,X) + b1\n",
        "    A1 = sigmoid(Z1)\n",
        "    #A1 = np.tanh(Z1)\n",
        "    Z2 = np.dot(W2,A1) +b2\n",
        "    A2 = sigmoid(Z2)\n",
        "    predictions = np.round(A2)\n",
        "    \n",
        "    \n",
        "    return predictions\n",
        "\n",
        "\n",
        "import matplotlib.pyplot as plt\n",
        "Cost = np.array(Cost)\n",
        "print(Cost.shape)\n",
        "plt.plot(Cost)\n"
      ]
    },
    {
      "cell_type": "code",
      "source": [
        "print(Y)\n",
        "print(A2)\n",
        "print(np.squeeze(cost_computation(Y,A2.T)))\n"
      ],
      "metadata": {
        "colab": {
          "base_uri": "https://localhost:8080/"
        },
        "id": "4VHmi-AHDPqg",
        "outputId": "e4b20011-338c-4c0c-8440-1d0fbe11f912"
      },
      "execution_count": null,
      "outputs": [
        {
          "output_type": "stream",
          "name": "stdout",
          "text": [
            "[[1 0 0 1]]\n",
            "[[0.99510922 0.00537893 0.00306161 0.99614328]]\n",
            "10.954824383315492\n"
          ]
        }
      ]
    },
    {
      "cell_type": "code",
      "source": [
        " # Plotting Decision Boundary\n",
        " \n",
        " # Set min and max values and give it some padding\n",
        "x_min, x_max = X[0, :].min() -2 , X[0, :].max() + 2\n",
        "y_min, y_max = X[1, :].min() -2, X[1, :].max() + 2\n",
        "h = 0.1\n",
        "print(X)\n",
        "# Generate a grid of points with distance h between them\n",
        "xx, yy = np.meshgrid(np.arange(x_min, x_max, h), np.arange(y_min, y_max, h))\n",
        "# Predict the function value for the whole grid\n",
        "\n",
        "Xn = (np.c_[xx.ravel(),yy.ravel()]).T\n",
        "\n",
        "P = predict(W1,W2,b1,b2,Xn)\n",
        "print(P.shape)\n",
        "P = P.reshape(xx.shape)\n",
        "print(P.shape)\n",
        "t = [1, 10,10, 1]\n",
        "plt.contourf(xx, yy, P, cmap=plt.cm.Spectral)\n",
        "plt.ylabel('x2')\n",
        "plt.xlabel('x1')\n",
        "plt.scatter(X[0, :], X[1, :], c = t, cmap=plt.cm.Spectral)\n",
        "print(Y)"
      ],
      "metadata": {
        "colab": {
          "base_uri": "https://localhost:8080/",
          "height": 366
        },
        "id": "1kS5e8oP0cIU",
        "outputId": "8ae791ef-3cf4-498f-c0c6-e841b0aaee5f"
      },
      "execution_count": null,
      "outputs": [
        {
          "output_type": "stream",
          "name": "stdout",
          "text": [
            "[[0 0 1 1]\n",
            " [0 1 0 1]]\n",
            "(1, 2500)\n",
            "(50, 50)\n",
            "[[1 0 0 1]]\n"
          ]
        },
        {
          "output_type": "display_data",
          "data": {
            "text/plain": [
              "<Figure size 432x288 with 1 Axes>"
            ],
            "image/png": "[encoded data removed]"
          },
          "metadata": {
            "needs_background": "light"
          }
        }
      ]
    },
    {
      "cell_type": "markdown",
      "source": [
        "# Neural Network with Back propagation for Nonlinear Dataset\n",
        "\n",
        "\n",
        "\n",
        "1.   ## Planar Dataset\n",
        "2.  ## Noisy Circular dataset\n",
        "\n",
        "## Here at first we load the data set"
      ],
      "metadata": {
        "id": "fuqU94AE5HUU"
      }
    },
    {
      "cell_type": "code",
      "source": [
        "import matplotlib.pyplot as plt\n",
        "import numpy as np\n",
        "import sklearn\n",
        "import sklearn.datasets\n",
        "import sklearn.linear_model\n",
        "\n",
        "\n",
        "def load_planar_dataset():\n",
        "    np.random.seed(1)\n",
        "    m = 400 # number of examples\n",
        "    N = int(m/2) # number of points per class\n",
        "    D = 2 # dimensionality\n",
        "    X = np.zeros((m,D)) # data matrix where each row is a single example\n",
        "    Y = np.zeros((m,1), dtype='uint8') # labels vector (0 for red, 1 for blue)\n",
        "    a = 4 # maximum ray of the flower\n",
        "\n",
        "    for j in range(2):\n",
        "        ix = range(N*j,N*(j+1))\n",
        "        t = np.linspace(j*3.12,(j+1)*3.12,N) + np.random.randn(N)*0.2 # theta\n",
        "        r = a*np.sin(4*t) + np.random.randn(N)*0.2 # radius\n",
        "        X[ix] = np.c_[r*np.sin(t), r*np.cos(t)]\n",
        "        Y[ix] = j\n",
        "        \n",
        "    X = X.T\n",
        "    Y = Y.T\n",
        "\n",
        "    return X, Y\n",
        "\n",
        "def load_extra_datasets():  \n",
        "    N = 200\n",
        "    noisy_circles = sklearn.datasets.make_circles(n_samples=N, factor=.5, noise=.3)\n",
        "    noisy_moons = sklearn.datasets.make_moons(n_samples=N, noise=.2)\n",
        "    blobs = sklearn.datasets.make_blobs(n_samples=N, random_state=5, n_features=2, centers=6)\n",
        "    gaussian_quantiles = sklearn.datasets.make_gaussian_quantiles(mean=None, cov=0.5, n_samples=N, n_features=2, n_classes=2, shuffle=True, random_state=None)\n",
        "    no_structure = np.random.rand(N, 2), np.random.rand(N, 2)\n",
        "    \n",
        "    return noisy_circles, noisy_moons, blobs, gaussian_quantiles, no_structure"
      ],
      "metadata": {
        "id": "gcpGgpTr5bLC"
      },
      "execution_count": null,
      "outputs": []
    },
    {
      "cell_type": "markdown",
      "source": [
        "## Check dataset"
      ],
      "metadata": {
        "id": "hd3-yKO55sra"
      }
    },
    {
      "cell_type": "code",
      "source": [
        "X,Y = load_planar_dataset()\n",
        "print(X.shape) # X should be in shape (n x m)\n",
        "print(Y.shape) # Y should be in shape (1 x m)\n",
        "# m = no. of samples\n",
        "# n = no. of features\n",
        "\n",
        "plt.scatter(X[0,:],X[1,:],c=Y,cmap='jet')"
      ],
      "metadata": {
        "colab": {
          "base_uri": "https://localhost:8080/",
          "height": 317
        },
        "id": "-Gi25zrw5rMq",
        "outputId": "c5778d47-567d-42c7-8009-01b97f782f32"
      },
      "execution_count": null,
      "outputs": [
        {
          "output_type": "stream",
          "name": "stdout",
          "text": [
            "(2, 400)\n",
            "(1, 400)\n"
          ]
        },
        {
          "output_type": "execute_result",
          "data": {
            "text/plain": [
              "<matplotlib.collections.PathCollection at 0x7eff651ef490>"
            ]
          },
          "metadata": {},
          "execution_count": 24
        },
        {
          "output_type": "display_data",
          "data": {
            "text/plain": [
              "<Figure size 432x288 with 1 Axes>"
            ],
            "image/png": "[encoded data removed]"
          },
          "metadata": {
            "needs_background": "light"
          }
        }
      ]
    },
    {
      "cell_type": "markdown",
      "source": [
        "# Defining Neural Network Structure\n",
        "\n",
        "\n",
        "\n",
        "1.   ## We consider one hidden layer\n",
        "2.   ## n_x = no. of nodes or units in input layer\n",
        "3.   ## n_h = no. of units in hidden layer\n",
        "4.   ## n_y = no. of units in output layer\n",
        "\n"
      ],
      "metadata": {
        "id": "qVA7xaMq7DNu"
      }
    },
    {
      "cell_type": "code",
      "source": [
        "def layer_sizes(X,Y):\n",
        "  n_x = X.shape[0] # no. of features\n",
        "  n_h = 4\n",
        "  n_y = Y.shape[0]\n",
        "  return (n_x,n_h,n_y)"
      ],
      "metadata": {
        "id": "am2LU5ws7-k7"
      },
      "execution_count": null,
      "outputs": []
    },
    {
      "cell_type": "markdown",
      "source": [
        "# Initialization of Parameters\n",
        "\n",
        "## save the parameters in a dictionary named 'parameters' "
      ],
      "metadata": {
        "id": "JfMa-18n9Pwv"
      }
    },
    {
      "cell_type": "code",
      "source": [
        "def initialize_parameters(n_x,n_h,n_y):\n",
        "  W1 = np.random.random((n_h,n_x)) *0.01\n",
        "  b1 = np.zeros((n_h,1))\n",
        "  W2 = np.random.random((n_y,n_h)) *0.01\n",
        "  b2 = np.zeros((n_y,1))\n",
        "\n",
        "  # make sure that shapes are right\n",
        "  assert (W1.shape == (n_h, n_x))\n",
        "  assert (b1.shape == (n_h, 1))\n",
        "  assert (W2.shape == (n_y, n_h))\n",
        "  assert (b2.shape == (n_y, 1))\n",
        "\n",
        "  parameters = {\"W1\":W1,\"b1\":b1, \"W2\":W2,\"b2\":b2}\n",
        "  return parameters\n"
      ],
      "metadata": {
        "id": "skb2m-LS9547"
      },
      "execution_count": null,
      "outputs": []
    },
    {
      "cell_type": "markdown",
      "source": [
        "# $Forward \\quad Propagation$\n",
        "## $ Z^{[1]} = W^{[1]}X + b^{[1]}$\n",
        "## $ A^{[1]} = g^{[1]}(Z^{[1]})$\n",
        "## $ Z^{[2]} = W^{[2]}A^{[1]} + b^{[2]}$\n",
        "## $ A^{[2]} = g^{[2]}(Z^{[2]})$\n",
        "\n",
        "##*We can use different activation functions in different layers*. Say $g^{[1]}$ is $tanh$ and $g^{[2]}$ is $sigmoid$"
      ],
      "metadata": {
        "id": "tTbTV4ej_NSP"
      }
    },
    {
      "cell_type": "code",
      "source": [
        "def forward_propagation(X,parameters):\n",
        "  W1 = parameters['W1']\n",
        "  b1 = parameters['b1']\n",
        "  W2 = parameters['W2']\n",
        "  b2 = parameters['b2']\n",
        "\n",
        "  Z1 = np.dot(W1,X) + b1\n",
        "  A1 = sigmoid(Z1)\n",
        "  #A1 = np.tanh(Z1)\n",
        "  Z2 = np.dot(W2,A1) +b2\n",
        "  A2 = sigmoid(Z2)\n",
        "\n",
        "  cache ={\"Z1\":Z1,\"A1\":A1,\"Z2\":Z2,\"A2\":A2}\n",
        "  return A2,cache"
      ],
      "metadata": {
        "id": "9tOGw0EuAXhb"
      },
      "execution_count": null,
      "outputs": []
    },
    {
      "cell_type": "markdown",
      "source": [
        "Now that you have computed $A^{[2]}$ (in the Python variable \"`A2`\"), which contains $a^{[2](i)}$ for every example, you can compute the cost function as follows:\n",
        "\n",
        "$$J = - \\frac{1}{m} \\sum\\limits_{i = 0}^{m} \\large{(} \\small y^{(i)}\\log\\left(a^{[2] (i)}\\right) + (1-y^{(i)})\\log\\left(1- a^{[2] (i)}\\right) \\large{)} \\small\\tag{13}$$\n",
        "\n",
        "**Exercise**: Implement `compute_cost()` to compute the value of the cost $J$.\n",
        "\n",
        "**Instructions**:\n",
        "- There are many ways to implement the cross-entropy loss. To help you, we give you how we would have implemented\n",
        "$- \\sum\\limits_{i=0}^{m}  y^{(i)}\\log(a^{[2](i)})$:\n",
        "```python\n",
        "logprobs = np.multiply(np.log(A2),Y)\n",
        "cost = - np.sum(logprobs)                # no need to use a for loop!\n",
        "```\n",
        "\n",
        "(you can use either `np.multiply()` and then `np.sum()` or directly `np.dot()`)."
      ],
      "metadata": {
        "id": "vd4w-MbQBlev"
      }
    },
    {
      "cell_type": "code",
      "source": [
        "def compute_cost(y,yhat):\n",
        "  logprobs = -(1/m)* np.sum(( np.multiply(y,np.log(yhat)) + np.multiply(1-y,np.log(1-yhat)) ))\n",
        "  #yhat = yhat.T # if we use np.dot we need transpose\n",
        "  #logprobs = -(1/m) * (  np.dot(y,np.log(yhat)) + np.dot((1-y),np.log(1-yhat))   )\n",
        "  cost = np.squeeze(logprobs) # makes sure cost is the dimension we expect. \n",
        "                                # E.g., turns [[17]] into 17 \n",
        "  return cost\n"
      ],
      "metadata": {
        "id": "uoczk99sHo-9"
      },
      "execution_count": null,
      "outputs": []
    },
    {
      "cell_type": "markdown",
      "source": [
        "# Back Propagation\n",
        "*Remember : Shape of X is $n_x\\times m$, Shape of Y is $1\\times m$*\n",
        "\n",
        "$X_{n_x\\times m}, Y_{1\\times m}$\n",
        "\n",
        "\n",
        "\\begin{eqnarray}\n",
        "dZ^{[2]} &=& A^{[2]} - Y \\\\\n",
        " dW^{[2]} &=& \\frac{1}{m} dZ^{[2]} A^{[1]^T} = \\frac{1}{m} (A^{[2]} - Y) A^{[1]^T} \\\\\n",
        " db^{[2]} &=& \\frac{1}{m} np.sum( dZ^{[2]},axis=1,keepdims=True)\\\\\n",
        " dZ^{[1]} &=& W^{[2]^T} dZ^{[2]} \\cdot  g^{'[1]}(Z^{[1]}) = W^{[2]^T} (A^{[2]} - Y) \\cdot  g^{'[1]}(Z^{[1]})\\\\\n",
        " dW^{[1]} &=& dZ^{[1]} X^T \\\\\n",
        " db^{[1]} &=& \\frac{1}{m} np.sum( dZ^{[1]},axis=1,keepdims=True)\\\\\n",
        "\\end{eqnarray}"
      ],
      "metadata": {
        "id": "99iLu5GIIIOP"
      }
    },
    {
      "cell_type": "code",
      "source": [
        "def back_propagation(X,Y,parameters,cache):\n",
        "  m = X.shape[1]\n",
        "    \n",
        "  # First, retrieve W1 and W2 from the dictionary \"parameters\".\n",
        "  \n",
        "  W1 = parameters['W1']\n",
        "  W2 = parameters['W2']\n",
        "  ### END CODE HERE ###\n",
        "      \n",
        "  # Retrieve also A1 and A2 from dictionary \"cache\".\n",
        "  \n",
        "  A1 = cache['A1']\n",
        "  A2 = cache['A2']\n",
        "  ### END CODE HERE ###\n",
        "  \n",
        "  # Backward propagation: calculate dW1, db1, dW2, db2. \n",
        "  \n",
        "  dZ2 = A2 - Y\n",
        "  dW2 = (1 / m) * np.dot(dZ2, A1.T)\n",
        "  db2 = (1 / m) * np.sum(dZ2, axis=1, keepdims=True)\n",
        "  #dZ1 = np.multiply(np.dot(W2.T, dZ2), 1 - np.power(A1, 2)) # for tanh activation\n",
        "  dZ1 = np.multiply(np.dot(W2.T, dZ2), (A1*(1-A1))) # for sigmoid function\n",
        "  dW1 = (1 / m) * np.dot(dZ1, X.T)\n",
        "  db1 = (1 / m) * np.sum(dZ1, axis=1, keepdims=True)\n",
        "  ### END CODE HERE ###\n",
        "    \n",
        "  grads = {\"dW1\": dW1,\n",
        "            \"db1\": db1,\n",
        "            \"dW2\": dW2,\n",
        "            \"db2\": db2}\n",
        "  \n",
        "  return grads"
      ],
      "metadata": {
        "id": "-aSJtudrREbY"
      },
      "execution_count": null,
      "outputs": []
    },
    {
      "cell_type": "markdown",
      "source": [
        "# Update the parameters\n",
        "\n",
        "\\begin{equation*}\n",
        "\\boxed{\\Theta := \\Theta - \\alpha \\cdot \\frac{\\partial J(\\Theta}{\\partial \\Theta}}\n",
        "\\end{equation*}\n",
        "\n",
        "\n",
        "\\begin{eqnarray}\n",
        "W^{[1]} &=& W^{[1]} - \\alpha \\cdot dW^{[1]}\\\\\n",
        "W^{[2]} &=& W^{[2]} - \\alpha \\cdot dW^{[2]}\\\\\n",
        "b^{[1]} &=& b^{[1]} - \\alpha \\cdot db^{[1]}\\\\\n",
        "b^{[2]} &=& b^{[1]} - \\alpha \\cdot db^{[2]}\\\\\n",
        "\\end{eqnarray}\n",
        "\n",
        "*Points to remember* : \n",
        "\\begin{align}\n",
        "dW^{[1]} = \\frac{\\partial J}{\\partial W^{[1]}} \\\\\n",
        "dW^{[2]} = \\frac{\\partial J}{\\partial W^{[2]}} \\\\\n",
        "db^{[1]} = \\frac{\\partial J}{\\partial b^{[1]}} \\\\\n",
        "db^{[2]} = \\frac{\\partial J}{\\partial b^{[2]}}\n",
        "\\end{align}"
      ],
      "metadata": {
        "id": "T_Um4AxySsQG"
      }
    },
    {
      "cell_type": "code",
      "source": [
        "def update_parameters(parameters, grads, lr = 1.2):\n",
        "  W1 = parameters[\"W1\"]\n",
        "  W2 = parameters[\"W2\"]\n",
        "  b1 = parameters[\"b1\"]\n",
        "  b2 = parameters[\"b2\"]\n",
        "\n",
        "  dW1 = grads[\"dW1\"]\n",
        "  dW2 = grads[\"dW2\"]\n",
        "  db1 = grads[\"db1\"]\n",
        "  db2 = grads[\"db2\"]\n",
        "  \n",
        "  W1 = W1 - lr * dW1\n",
        "  W2 = W2 - lr * dW2\n",
        "  b1 = b1 - lr * db1\n",
        "  b2 = b2 - lr * db2\n",
        "\n",
        "  parameters = {\"W1\": W1,\n",
        "                  \"b1\": b1,\n",
        "                  \"W2\": W2,\n",
        "                  \"b2\": b2}\n",
        "  return parameters\n"
      ],
      "metadata": {
        "id": "kJqGMU8oVLbm"
      },
      "execution_count": null,
      "outputs": []
    },
    {
      "cell_type": "markdown",
      "source": [
        "# Putting All together"
      ],
      "metadata": {
        "id": "V_ZZTq6nWY1J"
      }
    },
    {
      "cell_type": "code",
      "source": [
        "def nn_model(X,Y, n_h, no_of_iterations, print_cost = False):\n",
        "  n_x = layer_sizes(X, Y)[0]\n",
        "  n_y = layer_sizes(X, Y)[2]\n",
        "  n_h = 5\n",
        "  parameters = initialize_parameters(n_x,n_h,n_y)\n",
        "  \n",
        "\n",
        "  for epoch in range(0,no_of_iterations):\n",
        "    A2,cache = forward_propagation(X,parameters)\n",
        "    cost = compute_cost(Y,A2)\n",
        "    grads = back_propagation(X,Y,parameters,cache)\n",
        "    parameters = update_parameters(parameters,grads,lr=0.2)\n",
        "    if print_cost and epoch % 1000 == 0:\n",
        "            print (\"Cost after iteration %i: %f\" % (epoch, cost))\n",
        "\n",
        "  return parameters\n",
        "\n"
      ],
      "metadata": {
        "id": "pQ6pFO0iWb6I"
      },
      "execution_count": null,
      "outputs": []
    },
    {
      "cell_type": "markdown",
      "source": [
        "# Prediction"
      ],
      "metadata": {
        "id": "smwQpqCpYwOO"
      }
    },
    {
      "cell_type": "code",
      "source": [
        "def predict(parameters, X):\n",
        "    \"\"\"\n",
        "    Using the learned parameters, predicts a class for each example in X\n",
        "    \n",
        "    Arguments:\n",
        "    parameters -- python dictionary containing your parameters \n",
        "    X -- input data of size (n_x, m)\n",
        "    \n",
        "    Returns\n",
        "    predictions -- vector of predictions of our model (red: 0 / blue: 1)\n",
        "    \"\"\"\n",
        "    \n",
        "    # Computes probabilities using forward propagation, and classifies to 0/1 using 0.5 as the threshold.\n",
        "    \n",
        "    A2, cache = forward_propagation(X, parameters)\n",
        "    predictions = np.round(A2)\n",
        "   \n",
        "    \n",
        "    return predictions"
      ],
      "metadata": {
        "id": "Ib6T6K9uYyCJ"
      },
      "execution_count": null,
      "outputs": []
    },
    {
      "cell_type": "code",
      "source": [
        "def plot_decision_boundary(model, X, y):\n",
        "    # Set min and max values and give it some padding\n",
        "    x_min, x_max = X[0, :].min() - 1, X[0, :].max() + 1\n",
        "    y_min, y_max = X[1, :].min() - 1, X[1, :].max() + 1\n",
        "    h = 0.01\n",
        "    # Generate a grid of points with distance h between them\n",
        "    xx, yy = np.meshgrid(np.arange(x_min, x_max, h), np.arange(y_min, y_max, h))\n",
        "    # Predict the function value for the whole grid\n",
        "    Z = model(np.c_[xx.ravel(), yy.ravel()])\n",
        "    Z = Z.reshape(xx.shape)\n",
        "    # Plot the contour and training examples\n",
        "    plt.contourf(xx, yy, Z, cmap=plt.cm.Spectral)\n",
        "    plt.ylabel('x2')\n",
        "    plt.xlabel('x1')\n",
        "    plt.scatter(X[0, :], X[1, :], c=y, cmap=plt.cm.Spectral)"
      ],
      "metadata": {
        "id": "SBUGk3G8aQue"
      },
      "execution_count": null,
      "outputs": []
    },
    {
      "cell_type": "code",
      "source": [
        "## Build a model with a n_h-dimensional hidden layer\n",
        "parameters = nn_model(X, Y, n_h = 4, no_of_iterations=100000, print_cost=True)\n",
        "\n",
        "# Plot the decision boundary\n",
        "plot_decision_boundary(lambda x: predict(parameters, x.T), X, Y)\n",
        "plt.title(\"Decision Boundary for hidden layer size \" + str(4))"
      ],
      "metadata": {
        "id": "owvYuPdZY9Cz"
      },
      "execution_count": null,
      "outputs": []
    },
    {
      "cell_type": "markdown",
      "source": [
        "# Notes on Back propagation\n",
        "\n",
        "Images can be represented as a matrix with number of elements equal to the number of pixels. However, color images are digitally represented as a volume (i.e., three-channels; or three matrices stacked on each other). The number three is used because colors are represented as red-green-blue (RGB) values. In the diagram below, we have a 64×64×3 image containing a soccer ball. It is flattened into a single vector containing 12,288 elements.\n",
        "\n",
        "https://aman.ai/cs229/assets/neural-networks/4.jpg\n",
        "\n",
        "A neural network model consists of two components:\n",
        "The network architecture, which defines how many layers, how many neurons, and how the neurons are connected and,\n",
        "The parameters (values; also known as weights). In this section, we will talk about how to learn the parameters. First we will talk about parameter initialization, optimization and analyzing these parameters.\n",
        "Parameter Initialization\n",
        "Consider a two layer neural network. On the left, the input is a flattened image vector $x^{(1)},…,x^{(i)}_n$. In the first hidden layer, notice how all inputs are connected to all neurons in the next layer. This is called a fully connected layer.\n",
        "\n",
        "https://aman.ai/cs229/assets/neural-networks/5.jpg\n",
        "\n",
        "The next step is to compute how many parameters are in this network. One way of doing this is to compute the forward propagation by hand.\n",
        "\n",
        "\\begin{aligned}\n",
        "z^{[1]} &=W^{[1]} x^{(i)}+b^{[1]} \\\\\n",
        "a^{[1]} &=g\\left(z^{[1]}\\right) \\\\\n",
        "z^{[2]} &=W^{[2]} a^{[1]}+b^{[2]} \\\\\n",
        "a^{[2]} &=g\\left(z^{[2]}\\right) \\\\\n",
        "\\end{aligned}\n",
        "\n",
        "$z^{[3]}=W^{[3]} a^{[2]}+b^{[3]} \\\\\n",
        "\\tag{3}$\n",
        "\n",
        "$\\hat{y}^{(i)} =a^{[3]}=g\\left(z^{[3]}\\right)\n",
        "\\tag{4}$\n",
        "\n",
        "We know that $z^{[1]},a^{[1]}∈ℝ^{3×1}$ and $z^{[2]},a^{[2]}∈ℝ^{2×1} $and $z^{[3]},a^{[3]}∈ℝ^{1×1}$. As of now, we do not know the size of $W^{[1]}$. However, we can compute its size. We know that $x∈ℝ^{n×1}$. This leads us to the following:\n",
        "\n",
        "$z^{[1]}=W^{[1]} x^{(i)}=\\mathbb{R}^{3 \\times 1} \\\\\n",
        "\\text{Written as sizes: }\\mathbb{R}^{3 \\times 1}=\\mathbb{R}^{? \\times ?} \\times \\mathbb{R}^{n \\times 1}$\n",
        "\n",
        "\\begin{aligned}\n",
        "\\frac{\\partial \\mathcal{L}}{\\partial W^{[3]}} \n",
        "&=-\\frac{\\partial}{\\partial W^{[3]}}((1-y) \\log (1-\\hat{y})+y \\log \\hat{y}) \\\\ \n",
        "&=-(1-y) \\frac{\\partial}{\\partial W^{[3]}} \\log \\left(1-g\\left(W^{[3]} a^{[2]}+b^{[3]}\\right)\\right)-y \\frac{\\partial}{\\partial W^{[3]}} \\log \\left(g\\left(W^{[3]} a^{[2]}+b^{[3]}\\right)\\right) \\\\\n",
        "&=-(1-y) \\frac{1}{1-g\\left(W^{[3]} a^{[2]}+b^{[3]}\\right)}(-1) g^{\\prime}\\left(W^{[3]} a^{[2]}+b^{[3]}\\right) a^{[2]^{T}} \\\\\n",
        "&{\\text{ }}- y \\frac{1}{g\\left(W^{[3]} a^{[2]}+b^{[3]}\\right)} g^{\\prime}\\left(W^{[3]} a^{[2]}+b^{[3]}\\right) a^{[2]^{T}} \\\\\n",
        "&=(1-y) \\sigma\\left(W^{[3]} a^{[2]}+b^{[3]}\\right) a^{[2]^{T}}-y\\left(1-\\sigma\\left(W^{[3]} a^{[2]}+b^{[3]}\\right)\\right) a^{[2]^{T}} \\\\\n",
        "&=(1-y) a^{[3]} a^{[2]^{T}}-y\\left(1-a^{[3]}\\right) a^{[2]^{T}} \\\\\n",
        "&=\\left(a^{[3]}-y\\right) a^{[2]^{T}}\n",
        "\\end{aligned}"
      ],
      "metadata": {
        "id": "8FyJ5KqsdgdP"
      }
    },
    {
      "cell_type": "code",
      "source": [],
      "metadata": {
        "id": "zFqmGt5QiDhK"
      },
      "execution_count": null,
      "outputs": []
    }
  ]
}